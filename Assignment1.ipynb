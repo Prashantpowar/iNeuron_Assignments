{
 "cells": [
  {
   "cell_type": "markdown",
   "id": "2f9639a4",
   "metadata": {},
   "source": [
    "# Q1"
   ]
  },
  {
   "cell_type": "markdown",
   "id": "e0ebbdd9",
   "metadata": {},
   "source": [
    "Ans:-\n",
    "Values :- 'hello', -87.8, 6\n",
    "\n",
    "Expressions :- *,-, /, +"
   ]
  },
  {
   "cell_type": "markdown",
   "id": "b1677d53",
   "metadata": {},
   "source": [
    "# Q2"
   ]
  },
  {
   "cell_type": "markdown",
   "id": "c9beb3fe",
   "metadata": {},
   "source": [
    "String as an information or value, which is put in single quote or double quote.\n",
    "variable are containres which stores data inside it. for storing data at some specific position we can create variable.\n",
    "\n",
    "within variable we can store string.\n",
    "\n",
    "for ex:-\n",
    "\n",
    "a = 'this is string'\n",
    "\n",
    "a is variable and \n",
    "'this is string' is string"
   ]
  },
  {
   "cell_type": "markdown",
   "id": "0491a59d",
   "metadata": {},
   "source": [
    "# Q3\n"
   ]
  },
  {
   "cell_type": "markdown",
   "id": "65f6a10a",
   "metadata": {},
   "source": [
    "Numeric Data type:- it represents the data which has numeric value. NUmeric value can be like integer, floating, complex numbers.\n",
    "\n",
    "string data type :- it contains one or more charectrs collectect toghether inside the single or double quote.\n",
    "\n",
    "List :- list is an collection of ordered data. it is mutable. and it can created by square bracket[]"
   ]
  },
  {
   "cell_type": "markdown",
   "id": "8e810f34",
   "metadata": {},
   "source": [
    "# Q4"
   ]
  },
  {
   "cell_type": "markdown",
   "id": "0f693840",
   "metadata": {},
   "source": [
    "expression is made up of variables and operators. it an combination to perform operation two produce another value, expression can add, multipy , divide , logical expressions"
   ]
  },
  {
   "cell_type": "markdown",
   "id": "a666dab9",
   "metadata": {},
   "source": [
    "# Q5"
   ]
  },
  {
   "cell_type": "markdown",
   "id": "b77905d9",
   "metadata": {},
   "source": [
    "expressions are part of statement each line in python is statement. in other hand expression can have operators or operands,\n",
    "in given example we have spam = 10 which is expression because it contains operator but it also called statement."
   ]
  },
  {
   "cell_type": "markdown",
   "id": "ac1279ae",
   "metadata": {},
   "source": [
    "# Q6"
   ]
  },
  {
   "cell_type": "markdown",
   "id": "4f4bc4a4",
   "metadata": {},
   "source": [
    "bacon variable contains 23 value "
   ]
  },
  {
   "cell_type": "markdown",
   "id": "7ef609bf",
   "metadata": {},
   "source": [
    "# Q7"
   ]
  },
  {
   "cell_type": "markdown",
   "id": "b0250214",
   "metadata": {},
   "source": [
    "for first line\n",
    "'spamspamspam'\n",
    "\n",
    "for second line also same output\n",
    "\n",
    "'spamspamspam'"
   ]
  },
  {
   "cell_type": "markdown",
   "id": "2bed8fda",
   "metadata": {},
   "source": [
    "# Q8"
   ]
  },
  {
   "cell_type": "markdown",
   "id": "c4b15e87",
   "metadata": {},
   "source": [
    "for integer int(), \n",
    "for floating float(),\n",
    "for string str()"
   ]
  },
  {
   "cell_type": "markdown",
   "id": "3c9b23d6",
   "metadata": {},
   "source": [
    "# Q9"
   ]
  },
  {
   "cell_type": "markdown",
   "id": "32353059",
   "metadata": {},
   "source": [
    "because in this statement string and int are added which is not possible because bothe are diffrent data types\n",
    "\n",
    "sol = 'I have eaten'+'99'+'burritos.'"
   ]
  }
 ],
 "metadata": {
  "kernelspec": {
   "display_name": "Python 3 (ipykernel)",
   "language": "python",
   "name": "python3"
  },
  "language_info": {
   "codemirror_mode": {
    "name": "ipython",
    "version": 3
   },
   "file_extension": ".py",
   "mimetype": "text/x-python",
   "name": "python",
   "nbconvert_exporter": "python",
   "pygments_lexer": "ipython3",
   "version": "3.7.11"
  }
 },
 "nbformat": 4,
 "nbformat_minor": 5
}
